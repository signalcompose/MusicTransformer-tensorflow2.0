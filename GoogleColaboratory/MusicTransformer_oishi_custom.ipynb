{
  "nbformat": 4,
  "nbformat_minor": 0,
  "metadata": {
    "colab": {
      "name": "MusicTransformer.ipynb",
      "provenance": [],
      "toc_visible": true,
      "include_colab_link": true
    },
    "kernelspec": {
      "name": "python3",
      "display_name": "Python 3"
    },
    "accelerator": "GPU"
  },
  "cells": [
    {
      "cell_type": "markdown",
      "metadata": {
        "id": "view-in-github",
        "colab_type": "text"
      },
      "source": [
        "<a href=\"https://colab.research.google.com/github/signalcompose/MusicTransformer-tensorflow2.0/blob/master/GoogleColaboratory/MusicTransformer_oishi_custom.ipynb\" target=\"_parent\"><img src=\"https://colab.research.google.com/assets/colab-badge.svg\" alt=\"Open In Colab\"/></a>"
      ]
    },
    {
      "cell_type": "markdown",
      "metadata": {
        "id": "v31ZuL0lJ7ZK",
        "colab_type": "text"
      },
      "source": [
        "### Google Drive をマウント"
      ]
    },
    {
      "cell_type": "code",
      "metadata": {
        "id": "7Ekr2Lr7J5XK",
        "colab_type": "code",
        "colab": {}
      },
      "source": [
        "from google.colab import drive\n",
        "drive.mount('/content/drive')"
      ],
      "execution_count": null,
      "outputs": []
    },
    {
      "cell_type": "markdown",
      "metadata": {
        "id": "bayg_vtiYegl",
        "colab_type": "text"
      },
      "source": [
        "### マウントされたドライブに移動\n",
        "#### GoogleColaboratory ディレクトリにリポジトリをクローンしていない場合\n",
        "* GoogleColaboratory ディレクトリに移動\n",
        "* MusicTransformerを git clone する\n",
        "* リポジトリのサブモジュールをダウンロード\n",
        "* [将来削除予定]経過時間を表示するブランチにチェックアウトする"
      ]
    },
    {
      "cell_type": "code",
      "metadata": {
        "id": "acAS_dR9ZgRc",
        "colab_type": "code",
        "colab": {}
      },
      "source": [
        "%cd drive/'My Drive'/GoogleColaboratory\n",
        "!git clone https://github.com/signalcompose/MusicTransformer-tensorflow2.0.git MusicTransformer_custom \n",
        "%cd MusicTransformer_custom\n",
        "!git submodule init && git submodule update\n",
        "!git checkout -b feature/ArgumentsForVerboseAndBatchCounts origin/feature/ArgumentsForVerboseAndBatchCounts"
      ],
      "execution_count": null,
      "outputs": []
    },
    {
      "cell_type": "markdown",
      "metadata": {
        "id": "Su2dhTjIZZWW",
        "colab_type": "text"
      },
      "source": [
        "#### 既に MusicTransformer を git clone している場合"
      ]
    },
    {
      "cell_type": "code",
      "metadata": {
        "id": "pJWmX_MTQg2H",
        "colab_type": "code",
        "colab": {}
      },
      "source": [
        "%cd drive/'My Drive'/GoogleColaboratory/MusicTransformer_custom"
      ],
      "execution_count": null,
      "outputs": []
    },
    {
      "cell_type": "markdown",
      "metadata": {
        "id": "_Bm-izoJebVl",
        "colab_type": "text"
      },
      "source": [
        "### 必要なモジュールのインストール\n"
      ]
    },
    {
      "cell_type": "code",
      "metadata": {
        "id": "EdlT_ZzqefVY",
        "colab_type": "code",
        "colab": {}
      },
      "source": [
        "!pip install progress pretty_midi config"
      ],
      "execution_count": null,
      "outputs": []
    },
    {
      "cell_type": "markdown",
      "metadata": {
        "id": "xo6w-5ehO5CT",
        "colab_type": "text"
      },
      "source": [
        "\n",
        "### ecompデータのダウンロード\n",
        "\n",
        "* 保存先のディレクトリ作成\n",
        "* Yamaha e-piano competition のデータダウンロード"
      ]
    },
    {
      "cell_type": "code",
      "metadata": {
        "id": "EROKvAdkO_ae",
        "colab_type": "code",
        "colab": {}
      },
      "source": [
        "!mkdir -p dataset/ecomp/midi dataset/ecomp/processed dataset/ecomp/generated\n",
        "!sh dataset/scripts/ecomp_piano_downloader.sh dataset/ecomp/midi"
      ],
      "execution_count": null,
      "outputs": []
    },
    {
      "cell_type": "markdown",
      "metadata": {
        "id": "QKvoFxAvHjO0",
        "colab_type": "text"
      },
      "source": [
        "## データを _dataset/mydata/midi_ にアップロードする\n",
        "\n",
        "### データのディレクトリを作成\n"
      ]
    },
    {
      "cell_type": "code",
      "metadata": {
        "id": "H2LGohssH4QF",
        "colab_type": "code",
        "colab": {}
      },
      "source": [
        "!mkdir -p dataset/mydata/midi dataset/mydata/processed dataset/mydata/generated dataset/mydata/model"
      ],
      "execution_count": 4,
      "outputs": []
    },
    {
      "cell_type": "markdown",
      "metadata": {
        "id": "CzOmZZnwIMPP",
        "colab_type": "text"
      },
      "source": [
        "### データを _dataset/mydata/midi_ にアップロードする\n",
        "\n",
        "これは Google Drive 側で実行する\n"
      ]
    },
    {
      "cell_type": "markdown",
      "metadata": {
        "id": "x0NW7b5GeO6C",
        "colab_type": "text"
      },
      "source": [
        "### preprocess.py の実行\n"
      ]
    },
    {
      "cell_type": "code",
      "metadata": {
        "id": "jyJU0Lxzeuuh",
        "colab_type": "code",
        "colab": {}
      },
      "source": [
        "!python preprocess.py dataset/mydata/midi dataset/mydata/processed"
      ],
      "execution_count": null,
      "outputs": []
    },
    {
      "cell_type": "markdown",
      "metadata": {
        "id": "ESFTCWAJzZFp",
        "colab_type": "text"
      },
      "source": [
        "## トレーニング\n"
      ]
    },
    {
      "cell_type": "code",
      "metadata": {
        "id": "cQWl9-SiwB1o",
        "colab_type": "code",
        "colab": {}
      },
      "source": [
        "!python train.py --epochs=1 --batch_size=1 --save_path=dataset/mydata/model --pickle_dir=dataset/mydata/processed"
      ],
      "execution_count": null,
      "outputs": []
    },
    {
      "cell_type": "markdown",
      "metadata": {
        "id": "-_0l0u0uH0KN",
        "colab_type": "text"
      },
      "source": [
        "## Midiファイル出力"
      ]
    },
    {
      "cell_type": "code",
      "metadata": {
        "id": "rFEBFtTJH3bB",
        "colab_type": "code",
        "colab": {}
      },
      "source": [
        "!python generate.py --load_path=dataset/mydata/model --prior_midi=dataset/mydata/midi/01.mid --save_path=dataset/mydata/generated/test.mid --length=100"
      ],
      "execution_count": null,
      "outputs": []
    }
  ]
}