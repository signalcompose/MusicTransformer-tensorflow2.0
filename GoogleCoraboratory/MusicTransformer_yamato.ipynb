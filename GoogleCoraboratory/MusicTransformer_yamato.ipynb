{
  "nbformat": 4,
  "nbformat_minor": 0,
  "metadata": {
    "colab": {
      "name": "MusicTransformer.ipynb",
      "provenance": [],
      "toc_visible": true,
      "machine_shape": "hm",
      "include_colab_link": true
    },
    "kernelspec": {
      "name": "python3",
      "display_name": "Python 3"
    },
    "accelerator": "GPU"
  },
  "cells": [
    {
      "cell_type": "markdown",
      "metadata": {
        "id": "view-in-github",
        "colab_type": "text"
      },
      "source": [
        "<a href=\"https://colab.research.google.com/github/signalcompose/MusicTransformer-tensorflow2.0/blob/master/GoogleCoraboratory/MusicTransformer_yamato.ipynb\" target=\"_parent\"><img src=\"https://colab.research.google.com/assets/colab-badge.svg\" alt=\"Open In Colab\"/></a>"
      ]
    },
    {
      "cell_type": "markdown",
      "metadata": {
        "id": "v31ZuL0lJ7ZK",
        "colab_type": "text"
      },
      "source": [
        "### Google Drive をマウント"
      ]
    },
    {
      "cell_type": "code",
      "metadata": {
        "id": "7Ekr2Lr7J5XK",
        "colab_type": "code",
        "colab": {}
      },
      "source": [
        "from google.colab import drive\n",
        "drive.mount('/content/drive')"
      ],
      "execution_count": null,
      "outputs": []
    },
    {
      "cell_type": "markdown",
      "metadata": {
        "id": "bayg_vtiYegl",
        "colab_type": "text"
      },
      "source": [
        "### マウントされたドライブに移動\n",
        "#### GoogleColaboratory ディレクトリにリポジトリをクローンしていない場合\n",
        "* GoogleColaboratory ディレクトリに移動　（Colab Notebooksに変更した）\n",
        "* MusicTransformerを git clone する\n",
        "* リポジトリのサブモジュールをダウンロード\n",
        "* [将来削除予定]経過時間を表示するブランチにチェックアウトする"
      ]
    },
    {
      "cell_type": "code",
      "metadata": {
        "id": "acAS_dR9ZgRc",
        "colab_type": "code",
        "colab": {}
      },
      "source": [
        "%cd drive/'My Drive'/'Colab Notebooks'\n",
        "!git clone https://github.com/signalcompose/MusicTransformer-tensorflow2.0.git \n",
        "%cd MusicTransformer-tensorflow2.0/\n",
        "!git submodule init && git submodule update\n",
        "!git checkout -b feature/PrintTrainTimer origin/feature/PrintTrainTimer"
      ],
      "execution_count": null,
      "outputs": []
    },
    {
      "cell_type": "markdown",
      "metadata": {
        "id": "Su2dhTjIZZWW",
        "colab_type": "text"
      },
      "source": [
        "#### 既に MusicTransformer を git clone している場合\n",
        "\n",
        "Music Transformerをgit cloneした先にCDする。"
      ]
    },
    {
      "cell_type": "code",
      "metadata": {
        "id": "pJWmX_MTQg2H",
        "colab_type": "code",
        "colab": {}
      },
      "source": [
        "%cd drive/'My Drive'/'Colab Notebooks'/MusicTransformer-tensorflow2.0\n"
      ],
      "execution_count": null,
      "outputs": []
    },
    {
      "cell_type": "markdown",
      "metadata": {
        "id": "_Bm-izoJebVl",
        "colab_type": "text"
      },
      "source": [
        "### 必要なモジュールのインストール\n"
      ]
    },
    {
      "cell_type": "code",
      "metadata": {
        "id": "EdlT_ZzqefVY",
        "colab_type": "code",
        "colab": {}
      },
      "source": [
        "!pip install progress pretty_midi config"
      ],
      "execution_count": null,
      "outputs": []
    },
    {
      "cell_type": "markdown",
      "metadata": {
        "id": "9ZwHMy8QtlQF",
        "colab_type": "text"
      },
      "source": [
        "### データのダウンロード\n",
        "* 保存先のディレクトリ作成\n",
        "* Yamaha e-piano competition のデータダウンロード"
      ]
    },
    {
      "cell_type": "code",
      "metadata": {
        "id": "TGFnj--IDU-3",
        "colab_type": "code",
        "colab": {}
      },
      "source": [
        "!mkdir -p dataset/ecomp/midi dataset/ecomp/processed dataset/ecomp/generated\n",
        "!sh dataset/scripts/ecomp_piano_downloader.sh dataset/ecomp/midi"
      ],
      "execution_count": null,
      "outputs": []
    },
    {
      "cell_type": "code",
      "metadata": {
        "id": "M34Z6FNXRJJX",
        "colab_type": "code",
        "colab": {}
      },
      "source": [
        "!mkdir -p dataset/mymidi/midi dataset/mymidi/processed dataset/mymidi/generated\n"
      ],
      "execution_count": 4,
      "outputs": []
    },
    {
      "cell_type": "markdown",
      "metadata": {
        "id": "x0NW7b5GeO6C",
        "colab_type": "text"
      },
      "source": [
        "### preprocess.py の実行\n"
      ]
    },
    {
      "cell_type": "code",
      "metadata": {
        "id": "jyJU0Lxzeuuh",
        "colab_type": "code",
        "colab": {}
      },
      "source": [
        "!python preprocess.py dataset/ecomp/midi dataset/ecomp/processed"
      ],
      "execution_count": null,
      "outputs": []
    },
    {
      "cell_type": "code",
      "metadata": {
        "id": "7Ah2PxVuRYUX",
        "colab_type": "code",
        "colab": {}
      },
      "source": [
        "!python preprocess.py dataset/mymidi/midi dataset/mymidi/processed"
      ],
      "execution_count": null,
      "outputs": []
    },
    {
      "cell_type": "markdown",
      "metadata": {
        "id": "ESFTCWAJzZFp",
        "colab_type": "text"
      },
      "source": [
        "## トレーニング\n",
        "\n",
        "トレーニングを200epochやったときの結果は以下。\n",
        "\n",
        "Epoch/Batch: 199/686\n",
        "Train >>>> Loss: 1.97072, Accuracy: 0.4176482856273651\n",
        "Eval >>>> Loss: 1.82654, Accuracy: 0.4181096851825714\n",
        "end time     : 20200611-001432\n",
        "elapsed time : 12:46:33.500902\n",
        "\n",
        "ログかキャッシュがかなり大きくなっているようなので、出力を工夫した方がいい。ディスク容量の警告が出ていた。\n",
        "\n"
      ]
    },
    {
      "cell_type": "code",
      "metadata": {
        "id": "cQWl9-SiwB1o",
        "colab_type": "code",
        "colab": {}
      },
      "source": [
        "!python train.py --epochs=200 --batch_size=2 --save_path=dataset/ecomp/model --pickle_dir=dataset/ecomp/processed"
      ],
      "execution_count": null,
      "outputs": []
    },
    {
      "cell_type": "code",
      "metadata": {
        "id": "q5vF2TGeRlZe",
        "colab_type": "code",
        "colab": {}
      },
      "source": [
        "!python train.py --epochs=200 --batch_size=2 --save_path=dataset/mymidi/model --pickle_dir=dataset/mymidi/processed"
      ],
      "execution_count": null,
      "outputs": []
    },
    {
      "cell_type": "markdown",
      "metadata": {
        "id": "-_0l0u0uH0KN",
        "colab_type": "text"
      },
      "source": [
        "## Midiファイル出力\n",
        "\n",
        "--lengthの最大値は2048までになってるようだ。"
      ]
    },
    {
      "cell_type": "code",
      "metadata": {
        "id": "rFEBFtTJH3bB",
        "colab_type": "code",
        "colab": {}
      },
      "source": [
        "!python generate.py --load_path=dataset/ecomp/model --prior_midi=dataset/ecomp/midi/BENABD10.mid --save_path=dataset/ecomp/generated/test2.mid --length=2048"
      ],
      "execution_count": null,
      "outputs": []
    },
    {
      "cell_type": "code",
      "metadata": {
        "id": "bszAo6rW6Mtn",
        "colab_type": "code",
        "colab": {}
      },
      "source": [
        "!python generate.py --load_path=dataset/mymidi/model --prior_midi=dataset/mymidi/midi/04-HI-110-01-001.48s00_01.mid --save_path=dataset/mymidi/generated/test2.mid --length=1024"
      ],
      "execution_count": null,
      "outputs": []
    }
  ]
}