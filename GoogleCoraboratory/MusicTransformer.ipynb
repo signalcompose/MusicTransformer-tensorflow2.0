{
  "nbformat": 4,
  "nbformat_minor": 0,
  "metadata": {
    "colab": {
      "name": "Untitled0.ipynb",
      "provenance": [],
      "authorship_tag": "ABX9TyMcS4MRb6h1thmwS3ugmBXZ",
      "include_colab_link": true
    },
    "kernelspec": {
      "name": "python3",
      "display_name": "Python 3"
    }
  },
  "cells": [
    {
      "cell_type": "markdown",
      "metadata": {
        "id": "view-in-github",
        "colab_type": "text"
      },
      "source": [
        "<a href=\"https://colab.research.google.com/github/signalcompose/MusicTransformer-tensorflow2.0/blob/master/GoogleCoraboratory/MusicTransformer.ipynb\" target=\"_parent\"><img src=\"https://colab.research.google.com/assets/colab-badge.svg\" alt=\"Open In Colab\"/></a>"
      ]
    },
    {
      "cell_type": "markdown",
      "metadata": {
        "id": "9ZwHMy8QtlQF",
        "colab_type": "text"
      },
      "source": [
        "###前処理\n",
        "* Music Transformer のリポジトリダウンロード\n",
        "* リポジトリのサブモジュールをダウンロード\n",
        "* [将来削除予定]経過時間を表示するブランチにチェックアウトする\n",
        "* Yamaha e-piano competition のデータダウンロード\n",
        "* preprocess に必要なモジュールのインストール\n",
        "* preprocess.py の実行"
      ]
    },
    {
      "cell_type": "code",
      "metadata": {
        "id": "TGFnj--IDU-3",
        "colab_type": "code",
        "colab": {}
      },
      "source": [
        "!git clone https://github.com/signalcompose/MusicTransformer-tensorflow2.0.git \n",
        "%cd MusicTransformer-tensorflow2.0/\n",
        "!git submodule init && git submodule update\n",
        "!git checkout -b feature/PrintTrainTimer origin/feature/PrintTrainTimer\n",
        "!mkdir -p dataset/ecomp/midi\n",
        "!sh dataset/scripts/ecomp_piano_downloader.sh dataset/ecomp/midi\n",
        "!mkdir -p dataset/ecomp/processed\n",
        "!pip install progress pretty_midi config\n",
        "!python preprocess.py dataset/ecomp/midi dataset/ecomp/processed"
      ],
      "execution_count": 0,
      "outputs": []
    },
    {
      "cell_type": "markdown",
      "metadata": {
        "id": "ESFTCWAJzZFp",
        "colab_type": "text"
      },
      "source": [
        "## トレーニング\n"
      ]
    },
    {
      "cell_type": "code",
      "metadata": {
        "id": "cQWl9-SiwB1o",
        "colab_type": "code",
        "colab": {}
      },
      "source": [
        "!python train.py --epochs=1 --batch_size=2 --save_path=dataset/ecomp/model --pickle_dir=dataset/ecomp/processed"
      ],
      "execution_count": 0,
      "outputs": []
    }
  ]
}