{
  "nbformat": 4,
  "nbformat_minor": 0,
  "metadata": {
    "colab": {
      "name": "Untitled0.ipynb",
      "provenance": [],
      "toc_visible": true,
      "authorship_tag": "ABX9TyP/9pgL7UrGHMMD9n6jBeWf",
      "include_colab_link": true
    },
    "kernelspec": {
      "name": "python3",
      "display_name": "Python 3"
    },
    "accelerator": "GPU"
  },
  "cells": [
    {
      "cell_type": "markdown",
      "metadata": {
        "id": "view-in-github",
        "colab_type": "text"
      },
      "source": [
        "<a href=\"https://colab.research.google.com/github/signalcompose/MusicTransformer-tensorflow2.0/blob/master/GoogleCoraboratory/MusicTransformer.ipynb\" target=\"_parent\"><img src=\"https://colab.research.google.com/assets/colab-badge.svg\" alt=\"Open In Colab\"/></a>"
      ]
    },
    {
      "cell_type": "markdown",
      "metadata": {
        "id": "v31ZuL0lJ7ZK",
        "colab_type": "text"
      },
      "source": [
        "### Google Drive をマウント"
      ]
    },
    {
      "cell_type": "code",
      "metadata": {
        "id": "7Ekr2Lr7J5XK",
        "colab_type": "code",
        "outputId": "e9d1029f-4f60-4206-a01c-37c67ea6dd90",
        "colab": {
          "base_uri": "https://localhost:8080/",
          "height": 122
        }
      },
      "source": [
        "from google.colab import drive\n",
        "drive.mount('/content/drive')"
      ],
      "execution_count": 0,
      "outputs": [
        {
          "output_type": "stream",
          "text": [
            "Go to this URL in a browser: https://accounts.google.com/o/oauth2/auth?client_id=947318989803-6bn6qk8qdgf4n4g3pfee6491hc0brc4i.apps.googleusercontent.com&redirect_uri=urn%3aietf%3awg%3aoauth%3a2.0%3aoob&response_type=code&scope=email%20https%3a%2f%2fwww.googleapis.com%2fauth%2fdocs.test%20https%3a%2f%2fwww.googleapis.com%2fauth%2fdrive%20https%3a%2f%2fwww.googleapis.com%2fauth%2fdrive.photos.readonly%20https%3a%2f%2fwww.googleapis.com%2fauth%2fpeopleapi.readonly\n",
            "\n",
            "Enter your authorization code:\n",
            "··········\n",
            "Mounted at /content/drive\n"
          ],
          "name": "stdout"
        }
      ]
    },
    {
      "cell_type": "markdown",
      "metadata": {
        "id": "bayg_vtiYegl",
        "colab_type": "text"
      },
      "source": [
        "### マウントされたドライブに移動\n",
        "#### GoogleColaboratory ディレクトリにリポジトリをクローンしていない場合\n",
        "* GoogleColaboratory ディレクトリに移動\n",
        "* MusicTransformerを git clone する\n",
        "* リポジトリのサブモジュールをダウンロード\n",
        "* [将来削除予定]経過時間を表示するブランチにチェックアウトする"
      ]
    },
    {
      "cell_type": "code",
      "metadata": {
        "id": "acAS_dR9ZgRc",
        "colab_type": "code",
        "colab": {}
      },
      "source": [
        "%cd drive/'My Drive'/GoogleColaboratory\n",
        "!git clone https://github.com/signalcompose/MusicTransformer-tensorflow2.0.git \n",
        "%cd MusicTransformer-tensorflow2.0/\n",
        "!git submodule init && git submodule update\n",
        "!git checkout -b feature/PrintTrainTimer origin/feature/PrintTrainTimer"
      ],
      "execution_count": 0,
      "outputs": []
    },
    {
      "cell_type": "markdown",
      "metadata": {
        "id": "Su2dhTjIZZWW",
        "colab_type": "text"
      },
      "source": [
        "#### 既に MusicTransformer を git clone している場合"
      ]
    },
    {
      "cell_type": "code",
      "metadata": {
        "id": "pJWmX_MTQg2H",
        "colab_type": "code",
        "colab": {}
      },
      "source": [
        "%cd drive/'My Drive'/GoogleColaboratory/MusicTransformer-tensorflow2.0\n"
      ],
      "execution_count": 0,
      "outputs": []
    },
    {
      "cell_type": "markdown",
      "metadata": {
        "id": "_Bm-izoJebVl",
        "colab_type": "text"
      },
      "source": [
        "### 必要なモジュールのインストール\n"
      ]
    },
    {
      "cell_type": "code",
      "metadata": {
        "id": "EdlT_ZzqefVY",
        "colab_type": "code",
        "colab": {}
      },
      "source": [
        "!pip install progress pretty_midi config"
      ],
      "execution_count": 0,
      "outputs": []
    },
    {
      "cell_type": "markdown",
      "metadata": {
        "id": "9ZwHMy8QtlQF",
        "colab_type": "text"
      },
      "source": [
        "### データのダウンロード\n",
        "* 保存先のディレクトリ作成\n",
        "* Yamaha e-piano competition のデータダウンロード"
      ]
    },
    {
      "cell_type": "code",
      "metadata": {
        "id": "TGFnj--IDU-3",
        "colab_type": "code",
        "colab": {}
      },
      "source": [
        "!mkdir -p dataset/ecomp/midi dataset/ecomp/processed dataset/ecomp/generated\n",
        "!sh dataset/scripts/ecomp_piano_downloader.sh dataset/ecomp/midi"
      ],
      "execution_count": 0,
      "outputs": []
    },
    {
      "cell_type": "markdown",
      "metadata": {
        "id": "x0NW7b5GeO6C",
        "colab_type": "text"
      },
      "source": [
        "### preprocess.py の実行\n"
      ]
    },
    {
      "cell_type": "code",
      "metadata": {
        "id": "jyJU0Lxzeuuh",
        "colab_type": "code",
        "colab": {}
      },
      "source": [
        "!python preprocess.py dataset/ecomp/midi dataset/ecomp/processed"
      ],
      "execution_count": 0,
      "outputs": []
    },
    {
      "cell_type": "markdown",
      "metadata": {
        "id": "ESFTCWAJzZFp",
        "colab_type": "text"
      },
      "source": [
        "## トレーニング\n"
      ]
    },
    {
      "cell_type": "code",
      "metadata": {
        "id": "cQWl9-SiwB1o",
        "colab_type": "code",
        "colab": {}
      },
      "source": [
        "!python train.py --epochs=200 --batch_size=2 --save_path=dataset/ecomp/model --pickle_dir=dataset/ecomp/processed"
      ],
      "execution_count": 0,
      "outputs": []
    },
    {
      "cell_type": "markdown",
      "metadata": {
        "id": "-_0l0u0uH0KN",
        "colab_type": "text"
      },
      "source": [
        "## Midiファイル出力"
      ]
    },
    {
      "cell_type": "code",
      "metadata": {
        "id": "rFEBFtTJH3bB",
        "colab_type": "code",
        "colab": {}
      },
      "source": [
        "!python generate.py --load_path=dataset/ecomp/model --prior_midi=dataset/ecomp/midi/BENABD10.mid --save_path=dataset/ecomp/generated/test.mid --length=1000"
      ],
      "execution_count": 0,
      "outputs": []
    }
  ]
}